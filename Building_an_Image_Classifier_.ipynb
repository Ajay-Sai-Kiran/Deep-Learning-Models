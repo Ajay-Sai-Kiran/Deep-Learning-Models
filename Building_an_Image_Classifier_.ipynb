{
  "nbformat": 4,
  "nbformat_minor": 0,
  "metadata": {
    "colab": {
      "name": "Building an Image Classifier .ipynb",
      "provenance": [],
      "authorship_tag": "ABX9TyO5sOKWNBF5rkmDZom6yK1q",
      "include_colab_link": true
    },
    "kernelspec": {
      "name": "python3",
      "display_name": "Python 3"
    },
    "language_info": {
      "name": "python"
    },
    "accelerator": "GPU"
  },
  "cells": [
    {
      "cell_type": "markdown",
      "metadata": {
        "id": "view-in-github",
        "colab_type": "text"
      },
      "source": [
        "<a href=\"https://colab.research.google.com/github/ajaysaikiran2208/Deep-Learning-Models/blob/main/Building_an_Image_Classifier_.ipynb\" target=\"_parent\"><img src=\"https://colab.research.google.com/assets/colab-badge.svg\" alt=\"Open In Colab\"/></a>"
      ]
    },
    {
      "cell_type": "code",
      "metadata": {
        "id": "W9731S7jGWwd"
      },
      "source": [
        "import tensorflow as tf\n",
        "from tensorflow import keras\n"
      ],
      "execution_count": 2,
      "outputs": []
    },
    {
      "cell_type": "code",
      "metadata": {
        "colab": {
          "base_uri": "https://localhost:8080/"
        },
        "id": "J9HHQUclG22p",
        "outputId": "12b2a8ff-1a54-475a-eaff-2c6e97435c29"
      },
      "source": [
        "fashion_mnist=keras.datasets.fashion_mnist\n",
        "fashion_mnist"
      ],
      "execution_count": 4,
      "outputs": [
        {
          "output_type": "execute_result",
          "data": {
            "text/plain": [
              "<module 'tensorflow.keras.datasets.fashion_mnist' from '/usr/local/lib/python3.7/dist-packages/tensorflow/keras/datasets/fashion_mnist/__init__.py'>"
            ]
          },
          "metadata": {
            "tags": []
          },
          "execution_count": 4
        }
      ]
    },
    {
      "cell_type": "code",
      "metadata": {
        "colab": {
          "base_uri": "https://localhost:8080/"
        },
        "id": "aiBRm3NhHGkp",
        "outputId": "2326ac46-e207-43d3-ece5-a07f9076b5fd"
      },
      "source": [
        "(X_train,y_train),(X_test,y_test)=fashion_mnist.load_data()"
      ],
      "execution_count": 5,
      "outputs": [
        {
          "output_type": "stream",
          "text": [
            "Downloading data from https://storage.googleapis.com/tensorflow/tf-keras-datasets/train-labels-idx1-ubyte.gz\n",
            "32768/29515 [=================================] - 0s 0us/step\n",
            "Downloading data from https://storage.googleapis.com/tensorflow/tf-keras-datasets/train-images-idx3-ubyte.gz\n",
            "26427392/26421880 [==============================] - 0s 0us/step\n",
            "Downloading data from https://storage.googleapis.com/tensorflow/tf-keras-datasets/t10k-labels-idx1-ubyte.gz\n",
            "8192/5148 [===============================================] - 0s 0us/step\n",
            "Downloading data from https://storage.googleapis.com/tensorflow/tf-keras-datasets/t10k-images-idx3-ubyte.gz\n",
            "4423680/4422102 [==============================] - 0s 0us/step\n"
          ],
          "name": "stdout"
        }
      ]
    },
    {
      "cell_type": "code",
      "metadata": {
        "colab": {
          "base_uri": "https://localhost:8080/"
        },
        "id": "N6VB2jdEHSF3",
        "outputId": "b1eb5e7f-a955-481a-a6e3-029be9212547"
      },
      "source": [
        "X_train.shape,X_train.dtype"
      ],
      "execution_count": 6,
      "outputs": [
        {
          "output_type": "execute_result",
          "data": {
            "text/plain": [
              "((60000, 28, 28), dtype('uint8'))"
            ]
          },
          "metadata": {
            "tags": []
          },
          "execution_count": 6
        }
      ]
    },
    {
      "cell_type": "code",
      "metadata": {
        "id": "7l75LqmzHgaq"
      },
      "source": [
        "X_valid,X_train=X_train[0:5000]/255.0,X_train[5000:]/255.0"
      ],
      "execution_count": 7,
      "outputs": []
    },
    {
      "cell_type": "code",
      "metadata": {
        "id": "ODKWxgvVHzhH"
      },
      "source": [
        "y_valid,y_train=y_train[:5000],y_train[5000:]"
      ],
      "execution_count": 8,
      "outputs": []
    },
    {
      "cell_type": "code",
      "metadata": {
        "id": "7fnlt7USH7Tt"
      },
      "source": [
        "class_names=[\"T-shirt/top\",\"Trouser\",\"Pullover\",\"Dress\",\"Coat\",\"Sandal\",\"Shirt\",\"Sneaker\",\"Bag\",\"Ankle boot\"]"
      ],
      "execution_count": 9,
      "outputs": []
    },
    {
      "cell_type": "code",
      "metadata": {
        "colab": {
          "base_uri": "https://localhost:8080/",
          "height": 35
        },
        "id": "sqgtpvQFIOyE",
        "outputId": "5c9ac663-1359-4a7e-f67c-c89cc91d3e8d"
      },
      "source": [
        "class_names[y_train[0]]"
      ],
      "execution_count": 10,
      "outputs": [
        {
          "output_type": "execute_result",
          "data": {
            "application/vnd.google.colaboratory.intrinsic+json": {
              "type": "string"
            },
            "text/plain": [
              "'Coat'"
            ]
          },
          "metadata": {
            "tags": []
          },
          "execution_count": 10
        }
      ]
    },
    {
      "cell_type": "code",
      "metadata": {
        "id": "fAfQXlJjITo3"
      },
      "source": [
        "model=keras.models.Sequential()                                   #It creates a sequential model.This is the simplest kind of Keras model for neural networks that are just composed of a single stack of layers\n",
        "model.add(keras.layers.Flatten(input_shape=[28,28]))              #to convert input image to 1-D array\n",
        "model.add(keras.layers.Dense(300,activation=\"relu\"))              #Dense layers manage its own weight,containing all the weights between the neurons and their input\n",
        "model.add(keras.layers.Dense(100,activation=\"relu\"))\n",
        "model.add(keras.layers.Dense(20,activation=\"softmax\"))"
      ],
      "execution_count": 16,
      "outputs": []
    },
    {
      "cell_type": "code",
      "metadata": {
        "colab": {
          "base_uri": "https://localhost:8080/"
        },
        "id": "N6sAJhdmJfN1",
        "outputId": "badc9bad-c133-43ae-fdb3-5cf0db088eed"
      },
      "source": [
        "model.summary()"
      ],
      "execution_count": 17,
      "outputs": [
        {
          "output_type": "stream",
          "text": [
            "Model: \"sequential_2\"\n",
            "_________________________________________________________________\n",
            "Layer (type)                 Output Shape              Param #   \n",
            "=================================================================\n",
            "flatten_4 (Flatten)          (None, 784)               0         \n",
            "_________________________________________________________________\n",
            "dense_1 (Dense)              (None, 300)               235500    \n",
            "_________________________________________________________________\n",
            "dense_2 (Dense)              (None, 100)               30100     \n",
            "_________________________________________________________________\n",
            "dense_3 (Dense)              (None, 20)                2020      \n",
            "=================================================================\n",
            "Total params: 267,620\n",
            "Trainable params: 267,620\n",
            "Non-trainable params: 0\n",
            "_________________________________________________________________\n"
          ],
          "name": "stdout"
        }
      ]
    },
    {
      "cell_type": "code",
      "metadata": {
        "colab": {
          "base_uri": "https://localhost:8080/"
        },
        "id": "N97dHCLLI33w",
        "outputId": "ca4b1695-6762-495f-c70f-177cd357b0a9"
      },
      "source": [
        "model.layers"
      ],
      "execution_count": 18,
      "outputs": [
        {
          "output_type": "execute_result",
          "data": {
            "text/plain": [
              "[<tensorflow.python.keras.layers.core.Flatten at 0x7fc11d1c8910>,\n",
              " <tensorflow.python.keras.layers.core.Dense at 0x7fc11e2eda90>,\n",
              " <tensorflow.python.keras.layers.core.Dense at 0x7fc0d0173290>,\n",
              " <tensorflow.python.keras.layers.core.Dense at 0x7fc0d0176590>]"
            ]
          },
          "metadata": {
            "tags": []
          },
          "execution_count": 18
        }
      ]
    },
    {
      "cell_type": "code",
      "metadata": {
        "id": "yHezH-XfKvhV"
      },
      "source": [
        "hidden1=model.layers[1]"
      ],
      "execution_count": 20,
      "outputs": []
    },
    {
      "cell_type": "code",
      "metadata": {
        "id": "m0rBWohzKghW"
      },
      "source": [
        "weight,baises=hidden1.get_weights()"
      ],
      "execution_count": 21,
      "outputs": []
    },
    {
      "cell_type": "code",
      "metadata": {
        "colab": {
          "base_uri": "https://localhost:8080/"
        },
        "id": "Dy4vCGK0Ksic",
        "outputId": "f3a118f4-1c1d-4131-f472-32912ccc5f96"
      },
      "source": [
        "weight"
      ],
      "execution_count": 23,
      "outputs": [
        {
          "output_type": "execute_result",
          "data": {
            "text/plain": [
              "array([[ 0.0074446 , -0.03481611, -0.0401899 , ...,  0.00284359,\n",
              "         0.05407086,  0.02836483],\n",
              "       [-0.035414  , -0.05268616, -0.00553449, ..., -0.03117387,\n",
              "         0.01358683, -0.06530042],\n",
              "       [-0.02775589, -0.00968538,  0.04344813, ...,  0.04588228,\n",
              "        -0.05702924,  0.02265827],\n",
              "       ...,\n",
              "       [ 0.03083254,  0.06189741,  0.06378879, ...,  0.01621454,\n",
              "         0.03384333,  0.01392084],\n",
              "       [ 0.07033272,  0.04141501,  0.04232263, ...,  0.03364436,\n",
              "         0.0652767 ,  0.00313783],\n",
              "       [-0.00928836,  0.04279161,  0.01399355, ..., -0.03506767,\n",
              "         0.05183157,  0.02124005]], dtype=float32)"
            ]
          },
          "metadata": {
            "tags": []
          },
          "execution_count": 23
        }
      ]
    },
    {
      "cell_type": "code",
      "metadata": {
        "id": "ArrMZRHuK3qr"
      },
      "source": [
        "model.compile(loss=\"sparse_categorical_crossentropy\",optimizer=\"sgd\",metrics=[\"accuracy\"]) #we are using sparse_categorical_crossentropy because we will have prediction 1 for the class\n"
      ],
      "execution_count": 25,
      "outputs": []
    },
    {
      "cell_type": "code",
      "metadata": {
        "colab": {
          "base_uri": "https://localhost:8080/"
        },
        "id": "uK-em1yPLPyK",
        "outputId": "4b7f90fd-e284-4981-86f2-8665f63e0a35"
      },
      "source": [
        "history=model.fit(X_train,y_train,epochs=50,validation_data=(X_valid,y_valid))"
      ],
      "execution_count": 27,
      "outputs": [
        {
          "output_type": "stream",
          "text": [
            "Epoch 1/50\n",
            "1719/1719 [==============================] - 7s 2ms/step - loss: 0.7400 - accuracy: 0.7575 - val_loss: 0.5108 - val_accuracy: 0.8346\n",
            "Epoch 2/50\n",
            "1719/1719 [==============================] - 4s 2ms/step - loss: 0.4981 - accuracy: 0.8266 - val_loss: 0.4482 - val_accuracy: 0.8444\n",
            "Epoch 3/50\n",
            "1719/1719 [==============================] - 4s 2ms/step - loss: 0.4515 - accuracy: 0.8432 - val_loss: 0.4485 - val_accuracy: 0.8504\n",
            "Epoch 4/50\n",
            "1719/1719 [==============================] - 4s 2ms/step - loss: 0.4224 - accuracy: 0.8518 - val_loss: 0.4384 - val_accuracy: 0.8466\n",
            "Epoch 5/50\n",
            "1719/1719 [==============================] - 4s 2ms/step - loss: 0.4021 - accuracy: 0.8594 - val_loss: 0.3959 - val_accuracy: 0.8650\n",
            "Epoch 6/50\n",
            "1719/1719 [==============================] - 4s 2ms/step - loss: 0.3866 - accuracy: 0.8634 - val_loss: 0.3857 - val_accuracy: 0.8652\n",
            "Epoch 7/50\n",
            "1719/1719 [==============================] - 4s 2ms/step - loss: 0.3700 - accuracy: 0.8687 - val_loss: 0.3585 - val_accuracy: 0.8774\n",
            "Epoch 8/50\n",
            "1719/1719 [==============================] - 4s 2ms/step - loss: 0.3583 - accuracy: 0.8735 - val_loss: 0.3942 - val_accuracy: 0.8642\n",
            "Epoch 9/50\n",
            "1719/1719 [==============================] - 4s 2ms/step - loss: 0.3476 - accuracy: 0.8766 - val_loss: 0.3498 - val_accuracy: 0.8762\n",
            "Epoch 10/50\n",
            "1719/1719 [==============================] - 4s 2ms/step - loss: 0.3395 - accuracy: 0.8783 - val_loss: 0.3366 - val_accuracy: 0.8798\n",
            "Epoch 11/50\n",
            "1719/1719 [==============================] - 4s 2ms/step - loss: 0.3289 - accuracy: 0.8824 - val_loss: 0.3371 - val_accuracy: 0.8800\n",
            "Epoch 12/50\n",
            "1719/1719 [==============================] - 4s 2ms/step - loss: 0.3207 - accuracy: 0.8859 - val_loss: 0.3311 - val_accuracy: 0.8858\n",
            "Epoch 13/50\n",
            "1719/1719 [==============================] - 4s 2ms/step - loss: 0.3130 - accuracy: 0.8872 - val_loss: 0.3285 - val_accuracy: 0.8840\n",
            "Epoch 14/50\n",
            "1719/1719 [==============================] - 4s 2ms/step - loss: 0.3053 - accuracy: 0.8911 - val_loss: 0.3404 - val_accuracy: 0.8788\n",
            "Epoch 15/50\n",
            "1719/1719 [==============================] - 4s 2ms/step - loss: 0.2983 - accuracy: 0.8944 - val_loss: 0.3238 - val_accuracy: 0.8846\n",
            "Epoch 16/50\n",
            "1719/1719 [==============================] - 4s 2ms/step - loss: 0.2929 - accuracy: 0.8944 - val_loss: 0.3157 - val_accuracy: 0.8878\n",
            "Epoch 17/50\n",
            "1719/1719 [==============================] - 4s 2ms/step - loss: 0.2855 - accuracy: 0.8980 - val_loss: 0.3224 - val_accuracy: 0.8856\n",
            "Epoch 18/50\n",
            "1719/1719 [==============================] - 4s 2ms/step - loss: 0.2802 - accuracy: 0.8984 - val_loss: 0.3116 - val_accuracy: 0.8884\n",
            "Epoch 19/50\n",
            "1719/1719 [==============================] - 4s 2ms/step - loss: 0.2748 - accuracy: 0.9006 - val_loss: 0.3071 - val_accuracy: 0.8930\n",
            "Epoch 20/50\n",
            "1719/1719 [==============================] - 4s 2ms/step - loss: 0.2689 - accuracy: 0.9031 - val_loss: 0.2981 - val_accuracy: 0.8936\n",
            "Epoch 21/50\n",
            "1719/1719 [==============================] - 4s 2ms/step - loss: 0.2650 - accuracy: 0.9043 - val_loss: 0.3160 - val_accuracy: 0.8844\n",
            "Epoch 22/50\n",
            "1719/1719 [==============================] - 4s 2ms/step - loss: 0.2594 - accuracy: 0.9071 - val_loss: 0.3081 - val_accuracy: 0.8892\n",
            "Epoch 23/50\n",
            "1719/1719 [==============================] - 4s 2ms/step - loss: 0.2561 - accuracy: 0.9072 - val_loss: 0.3037 - val_accuracy: 0.8900\n",
            "Epoch 24/50\n",
            "1719/1719 [==============================] - 4s 2ms/step - loss: 0.2502 - accuracy: 0.9099 - val_loss: 0.3068 - val_accuracy: 0.8914\n",
            "Epoch 25/50\n",
            "1719/1719 [==============================] - 4s 2ms/step - loss: 0.2468 - accuracy: 0.9107 - val_loss: 0.3044 - val_accuracy: 0.8914\n",
            "Epoch 26/50\n",
            "1719/1719 [==============================] - 4s 2ms/step - loss: 0.2419 - accuracy: 0.9135 - val_loss: 0.2958 - val_accuracy: 0.8920\n",
            "Epoch 27/50\n",
            "1719/1719 [==============================] - 4s 2ms/step - loss: 0.2377 - accuracy: 0.9146 - val_loss: 0.3024 - val_accuracy: 0.8932\n",
            "Epoch 28/50\n",
            "1719/1719 [==============================] - 4s 2ms/step - loss: 0.2338 - accuracy: 0.9167 - val_loss: 0.2995 - val_accuracy: 0.8948\n",
            "Epoch 29/50\n",
            "1719/1719 [==============================] - 4s 2ms/step - loss: 0.2304 - accuracy: 0.9171 - val_loss: 0.2934 - val_accuracy: 0.8934\n",
            "Epoch 30/50\n",
            "1719/1719 [==============================] - 4s 2ms/step - loss: 0.2260 - accuracy: 0.9187 - val_loss: 0.2995 - val_accuracy: 0.8934\n",
            "Epoch 31/50\n",
            "1719/1719 [==============================] - 4s 2ms/step - loss: 0.2223 - accuracy: 0.9204 - val_loss: 0.3443 - val_accuracy: 0.8758\n",
            "Epoch 32/50\n",
            "1719/1719 [==============================] - 4s 2ms/step - loss: 0.2189 - accuracy: 0.9215 - val_loss: 0.3406 - val_accuracy: 0.8806\n",
            "Epoch 33/50\n",
            "1719/1719 [==============================] - 4s 2ms/step - loss: 0.2162 - accuracy: 0.9220 - val_loss: 0.2906 - val_accuracy: 0.8936\n",
            "Epoch 34/50\n",
            "1719/1719 [==============================] - 4s 2ms/step - loss: 0.2115 - accuracy: 0.9239 - val_loss: 0.3006 - val_accuracy: 0.8934\n",
            "Epoch 35/50\n",
            "1719/1719 [==============================] - 4s 2ms/step - loss: 0.2077 - accuracy: 0.9264 - val_loss: 0.3030 - val_accuracy: 0.8900\n",
            "Epoch 36/50\n",
            "1719/1719 [==============================] - 4s 2ms/step - loss: 0.2047 - accuracy: 0.9258 - val_loss: 0.2998 - val_accuracy: 0.8920\n",
            "Epoch 37/50\n",
            "1719/1719 [==============================] - 4s 2ms/step - loss: 0.2016 - accuracy: 0.9282 - val_loss: 0.2959 - val_accuracy: 0.8914\n",
            "Epoch 38/50\n",
            "1719/1719 [==============================] - 4s 2ms/step - loss: 0.1995 - accuracy: 0.9287 - val_loss: 0.3053 - val_accuracy: 0.8868\n",
            "Epoch 39/50\n",
            "1719/1719 [==============================] - 4s 2ms/step - loss: 0.1948 - accuracy: 0.9301 - val_loss: 0.2996 - val_accuracy: 0.8950\n",
            "Epoch 40/50\n",
            "1719/1719 [==============================] - 4s 2ms/step - loss: 0.1917 - accuracy: 0.9319 - val_loss: 0.2941 - val_accuracy: 0.8932\n",
            "Epoch 41/50\n",
            "1719/1719 [==============================] - 4s 2ms/step - loss: 0.1893 - accuracy: 0.9318 - val_loss: 0.2895 - val_accuracy: 0.8982\n",
            "Epoch 42/50\n",
            "1719/1719 [==============================] - 4s 2ms/step - loss: 0.1871 - accuracy: 0.9329 - val_loss: 0.3017 - val_accuracy: 0.8922\n",
            "Epoch 43/50\n",
            "1719/1719 [==============================] - 4s 2ms/step - loss: 0.1836 - accuracy: 0.9345 - val_loss: 0.3051 - val_accuracy: 0.8924\n",
            "Epoch 44/50\n",
            "1719/1719 [==============================] - 4s 2ms/step - loss: 0.1799 - accuracy: 0.9360 - val_loss: 0.2928 - val_accuracy: 0.8952\n",
            "Epoch 45/50\n",
            "1719/1719 [==============================] - 4s 2ms/step - loss: 0.1774 - accuracy: 0.9366 - val_loss: 0.3033 - val_accuracy: 0.8922\n",
            "Epoch 46/50\n",
            "1719/1719 [==============================] - 4s 2ms/step - loss: 0.1755 - accuracy: 0.9369 - val_loss: 0.2887 - val_accuracy: 0.8968\n",
            "Epoch 47/50\n",
            "1719/1719 [==============================] - 4s 2ms/step - loss: 0.1726 - accuracy: 0.9378 - val_loss: 0.2874 - val_accuracy: 0.9002\n",
            "Epoch 48/50\n",
            "1719/1719 [==============================] - 4s 2ms/step - loss: 0.1702 - accuracy: 0.9384 - val_loss: 0.2925 - val_accuracy: 0.8988\n",
            "Epoch 49/50\n",
            "1719/1719 [==============================] - 4s 2ms/step - loss: 0.1677 - accuracy: 0.9398 - val_loss: 0.3125 - val_accuracy: 0.8934\n",
            "Epoch 50/50\n",
            "1719/1719 [==============================] - 4s 2ms/step - loss: 0.1643 - accuracy: 0.9423 - val_loss: 0.2916 - val_accuracy: 0.8970\n"
          ],
          "name": "stdout"
        }
      ]
    },
    {
      "cell_type": "code",
      "metadata": {
        "colab": {
          "base_uri": "https://localhost:8080/"
        },
        "id": "gkCfJ33eMACV",
        "outputId": "8bce3f3c-aaf2-44ec-b173-01300bb334ac"
      },
      "source": [
        "model.evaluate(X_test,y_test)"
      ],
      "execution_count": 28,
      "outputs": [
        {
          "output_type": "stream",
          "text": [
            "313/313 [==============================] - 1s 2ms/step - loss: 70.3067 - accuracy: 0.8511\n"
          ],
          "name": "stdout"
        },
        {
          "output_type": "execute_result",
          "data": {
            "text/plain": [
              "[70.30674743652344, 0.8511000275611877]"
            ]
          },
          "metadata": {
            "tags": []
          },
          "execution_count": 28
        }
      ]
    },
    {
      "cell_type": "code",
      "metadata": {
        "colab": {
          "base_uri": "https://localhost:8080/"
        },
        "id": "xb4BLC3NM9PT",
        "outputId": "bdd65615-5d7d-4df5-9a44-431c3d5fd010"
      },
      "source": [
        "X_new=X_test[:5]\n",
        "y_proba=model.predict(X_new)\n",
        "y_proba.round(2)"
      ],
      "execution_count": 29,
      "outputs": [
        {
          "output_type": "execute_result",
          "data": {
            "text/plain": [
              "array([[0., 0., 0., 0., 0., 0., 0., 0., 0., 1., 0., 0., 0., 0., 0., 0.,\n",
              "        0., 0., 0., 0.],\n",
              "       [0., 0., 1., 0., 0., 0., 0., 0., 0., 0., 0., 0., 0., 0., 0., 0.,\n",
              "        0., 0., 0., 0.],\n",
              "       [0., 1., 0., 0., 0., 0., 0., 0., 0., 0., 0., 0., 0., 0., 0., 0.,\n",
              "        0., 0., 0., 0.],\n",
              "       [0., 1., 0., 0., 0., 0., 0., 0., 0., 0., 0., 0., 0., 0., 0., 0.,\n",
              "        0., 0., 0., 0.],\n",
              "       [0., 0., 0., 0., 0., 0., 1., 0., 0., 0., 0., 0., 0., 0., 0., 0.,\n",
              "        0., 0., 0., 0.]], dtype=float32)"
            ]
          },
          "metadata": {
            "tags": []
          },
          "execution_count": 29
        }
      ]
    },
    {
      "cell_type": "code",
      "metadata": {
        "colab": {
          "base_uri": "https://localhost:8080/"
        },
        "id": "3Hxh_5HwNTF-",
        "outputId": "6c878a03-3568-4849-b892-17664f035c55"
      },
      "source": [
        "y_pred=model.predict_classes(X_new)"
      ],
      "execution_count": 30,
      "outputs": [
        {
          "output_type": "stream",
          "text": [
            "/usr/local/lib/python3.7/dist-packages/tensorflow/python/keras/engine/sequential.py:455: UserWarning: `model.predict_classes()` is deprecated and will be removed after 2021-01-01. Please use instead:* `np.argmax(model.predict(x), axis=-1)`,   if your model does multi-class classification   (e.g. if it uses a `softmax` last-layer activation).* `(model.predict(x) > 0.5).astype(\"int32\")`,   if your model does binary classification   (e.g. if it uses a `sigmoid` last-layer activation).\n",
            "  warnings.warn('`model.predict_classes()` is deprecated and '\n"
          ],
          "name": "stderr"
        }
      ]
    },
    {
      "cell_type": "code",
      "metadata": {
        "colab": {
          "base_uri": "https://localhost:8080/"
        },
        "id": "QWicRA5vNaNO",
        "outputId": "eaf0b880-cff5-4816-aa9d-3e24f3ba30ae"
      },
      "source": [
        "y_pred"
      ],
      "execution_count": 31,
      "outputs": [
        {
          "output_type": "execute_result",
          "data": {
            "text/plain": [
              "array([9, 2, 1, 1, 6])"
            ]
          },
          "metadata": {
            "tags": []
          },
          "execution_count": 31
        }
      ]
    },
    {
      "cell_type": "code",
      "metadata": {
        "id": "9ksjMCy6NjP2"
      },
      "source": [
        "import numpy as np\n"
      ],
      "execution_count": 33,
      "outputs": []
    },
    {
      "cell_type": "code",
      "metadata": {
        "colab": {
          "base_uri": "https://localhost:8080/"
        },
        "id": "iN9VdLebNcpH",
        "outputId": "291514dc-4173-4398-a635-8c5e33393f72"
      },
      "source": [
        "np.array(class_names)[y_pred]"
      ],
      "execution_count": 34,
      "outputs": [
        {
          "output_type": "execute_result",
          "data": {
            "text/plain": [
              "array(['Ankle boot', 'Pullover', 'Trouser', 'Trouser', 'Shirt'],\n",
              "      dtype='<U11')"
            ]
          },
          "metadata": {
            "tags": []
          },
          "execution_count": 34
        }
      ]
    },
    {
      "cell_type": "code",
      "metadata": {
        "id": "sNJDSq2xNmAb"
      },
      "source": [
        "y_new=y_test[:3]"
      ],
      "execution_count": 35,
      "outputs": []
    },
    {
      "cell_type": "code",
      "metadata": {
        "colab": {
          "base_uri": "https://localhost:8080/"
        },
        "id": "C-iXzGltNiTR",
        "outputId": "4f293874-595e-4c1f-917f-0aa2cc62ceda"
      },
      "source": [
        "y_new"
      ],
      "execution_count": 36,
      "outputs": [
        {
          "output_type": "execute_result",
          "data": {
            "text/plain": [
              "array([9, 2, 1], dtype=uint8)"
            ]
          },
          "metadata": {
            "tags": []
          },
          "execution_count": 36
        }
      ]
    },
    {
      "cell_type": "code",
      "metadata": {
        "id": "qqHFJ5lFNsNt"
      },
      "source": [
        ""
      ],
      "execution_count": null,
      "outputs": []
    }
  ]
}